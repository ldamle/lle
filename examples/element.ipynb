{
 "cells": [
  {
   "cell_type": "code",
   "execution_count": null,
   "metadata": {},
   "outputs": [
    {
     "ename": "",
     "evalue": "",
     "output_type": "error",
     "traceback": [
      "\u001b[1;31mНе удалось запустить ядро. \n",
      "\u001b[1;31mПодробнее см. в <a href='command:jupyter.viewOutput'>журнале Jupyter</a>."
     ]
    }
   ],
   "source": [
    "import * as lle from '../lle';\n",
    "import fs from 'fs';\n",
    "const dataBridge = new dataBridge();\n"
   ]
  }
 ],
 "metadata": {
  "kernelspec": {
   "display_name": "\"Python/Mu (mu_venv-38-20220819-233602)\"",
   "language": "python",
   "name": "mu_venv-38-20220819-233602"
  }
 },
 "nbformat": 4,
 "nbformat_minor": 2
}
